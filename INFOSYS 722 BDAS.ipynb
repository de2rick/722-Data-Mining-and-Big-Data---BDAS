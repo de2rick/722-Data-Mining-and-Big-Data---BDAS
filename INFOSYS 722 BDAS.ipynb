{
 "cells": [
  {
   "cell_type": "code",
   "execution_count": 1,
   "metadata": {},
   "outputs": [],
   "source": [
    "import findspark\n",
    "findspark.init('/home/ubuntu/spark-2.1.1-bin-hadoop2.7')\n",
    "import pyspark\n",
    "from pyspark.sql import SparkSession\n",
    "spark = SparkSession.builder.appName('BDAS').getOrCreate()"
   ]
  },
  {
   "cell_type": "code",
   "execution_count": 2,
   "metadata": {
    "scrolled": false
   },
   "outputs": [
    {
     "name": "stdout",
     "output_type": "stream",
     "text": [
      "Pretty printing has been turned OFF\n"
     ]
    },
    {
     "data": {
      "text/plain": [
       "['X', 'Y', 'OBJECTID', 'advisorySpeed', 'areaUnitID', 'bicycle', 'bridge', 'bus', 'carStationWagon', 'cliffBank', 'crashDirectionDescription', 'crashFinancialYear', 'crashLocation1', 'crashLocation2', 'crashRoadSideRoad', 'crashSeverity', 'crashSHDescription', 'crashYear', 'debris', 'directionRoleDescription', 'ditch', 'fatalCount', 'fence', 'flatHill', 'guardRail', 'holiday', 'houseOrBuilding', 'intersection', 'kerb', 'light', 'meshblockId', 'minorInjuryCount', 'moped', 'motorcycle', 'NumberOfLanes', 'objectThrownOrDropped', 'otherObject', 'otherVehicleType', 'overBank', 'parkedVehicle', 'pedestrian', 'phoneBoxEtc', 'postOrPole', 'region', 'roadCharacter', 'roadLane', 'roadSurface', 'roadworks', 'schoolBus', 'seriousInjuryCount', 'slipOrFlood', 'speedLimit', 'strayAnimal', 'streetLight', 'suv', 'taxi', 'temporarySpeedLimit', 'tlaId', 'tlaName', 'trafficControl', 'trafficIsland', 'trafficSign', 'train', 'tree', 'truck', 'unknownVehicleType', 'urban', 'vanOrUtility', 'vehicle', 'waterRiver', 'weatherA', 'weatherB']"
      ]
     },
     "execution_count": 2,
     "metadata": {},
     "output_type": "execute_result"
    }
   ],
   "source": [
    "%pprint\n",
    "df1 = spark.read.csv(\"/home/ubuntu/Crash_Analysis_System_DataLT.csv\", header = True, inferSchema=True)\n",
    "df2 = spark.read.csv(\"/home/ubuntu/2 Crash_Analysis_System_DataLT.csv\", header = True, inferSchema=True)\n",
    "df1.columns\n"
   ]
  },
  {
   "cell_type": "code",
   "execution_count": 3,
   "metadata": {},
   "outputs": [
    {
     "name": "stdout",
     "output_type": "stream",
     "text": [
      "------Data Frame 1------\n",
      "Data Entries Amount:  1999\n",
      "Data columns:  72\n",
      "------Data Frame 2------\n",
      "Data Entries Amount:  1001\n",
      "Data columns:  72\n",
      "------Data Frame Appended------\n",
      "Data Entries Amount:  3000\n",
      "Data columns:  72\n"
     ]
    }
   ],
   "source": [
    "print('------Data Frame 1------')\n",
    "print(\"Data Entries Amount: \", df1.count())\n",
    "print(\"Data columns: \", len(df1.columns))\n",
    "print(\"------Data Frame 2------\")\n",
    "print(\"Data Entries Amount: \", df2.count())\n",
    "print(\"Data columns: \", len(df2.columns))\n",
    "df = df1.union(df2)\n",
    "print(\"------Data Frame Appended------\")\n",
    "print(\"Data Entries Amount: \", df.count())\n",
    "print(\"Data columns: \", len(df.columns))"
   ]
  },
  {
   "cell_type": "code",
   "execution_count": 4,
   "metadata": {
    "scrolled": true
   },
   "outputs": [
    {
     "name": "stdout",
     "output_type": "stream",
     "text": [
      "root\n",
      " |-- X: double (nullable = true)\n",
      " |-- Y: double (nullable = true)\n",
      " |-- OBJECTID: integer (nullable = true)\n",
      " |-- advisorySpeed: integer (nullable = true)\n",
      " |-- areaUnitID: integer (nullable = true)\n",
      " |-- bicycle: integer (nullable = true)\n",
      " |-- bridge: integer (nullable = true)\n",
      " |-- bus: integer (nullable = true)\n",
      " |-- carStationWagon: integer (nullable = true)\n",
      " |-- cliffBank: integer (nullable = true)\n",
      " |-- crashDirectionDescription: string (nullable = true)\n",
      " |-- crashFinancialYear: string (nullable = true)\n",
      " |-- crashLocation1: string (nullable = true)\n",
      " |-- crashLocation2: string (nullable = true)\n",
      " |-- crashRoadSideRoad: integer (nullable = true)\n",
      " |-- crashSeverity: string (nullable = true)\n",
      " |-- crashSHDescription: string (nullable = true)\n",
      " |-- crashYear: integer (nullable = true)\n",
      " |-- debris: integer (nullable = true)\n",
      " |-- directionRoleDescription: string (nullable = true)\n",
      " |-- ditch: integer (nullable = true)\n",
      " |-- fatalCount: integer (nullable = true)\n",
      " |-- fence: integer (nullable = true)\n",
      " |-- flatHill: string (nullable = true)\n",
      " |-- guardRail: integer (nullable = true)\n",
      " |-- holiday: string (nullable = true)\n",
      " |-- houseOrBuilding: integer (nullable = true)\n",
      " |-- intersection: integer (nullable = true)\n",
      " |-- kerb: integer (nullable = true)\n",
      " |-- light: string (nullable = true)\n",
      " |-- meshblockId: integer (nullable = true)\n",
      " |-- minorInjuryCount: integer (nullable = true)\n",
      " |-- moped: integer (nullable = true)\n",
      " |-- motorcycle: integer (nullable = true)\n",
      " |-- NumberOfLanes: integer (nullable = true)\n",
      " |-- objectThrownOrDropped: integer (nullable = true)\n",
      " |-- otherObject: integer (nullable = true)\n",
      " |-- otherVehicleType: integer (nullable = true)\n",
      " |-- overBank: integer (nullable = true)\n",
      " |-- parkedVehicle: integer (nullable = true)\n",
      " |-- pedestrian: integer (nullable = true)\n",
      " |-- phoneBoxEtc: integer (nullable = true)\n",
      " |-- postOrPole: integer (nullable = true)\n",
      " |-- region: string (nullable = true)\n",
      " |-- roadCharacter: string (nullable = true)\n",
      " |-- roadLane: string (nullable = true)\n",
      " |-- roadSurface: string (nullable = true)\n",
      " |-- roadworks: integer (nullable = true)\n",
      " |-- schoolBus: integer (nullable = true)\n",
      " |-- seriousInjuryCount: integer (nullable = true)\n",
      " |-- slipOrFlood: integer (nullable = true)\n",
      " |-- speedLimit: integer (nullable = true)\n",
      " |-- strayAnimal: integer (nullable = true)\n",
      " |-- streetLight: string (nullable = true)\n",
      " |-- suv: integer (nullable = true)\n",
      " |-- taxi: integer (nullable = true)\n",
      " |-- temporarySpeedLimit: integer (nullable = true)\n",
      " |-- tlaId: integer (nullable = true)\n",
      " |-- tlaName: string (nullable = true)\n",
      " |-- trafficControl: string (nullable = true)\n",
      " |-- trafficIsland: integer (nullable = true)\n",
      " |-- trafficSign: integer (nullable = true)\n",
      " |-- train: integer (nullable = true)\n",
      " |-- tree: integer (nullable = true)\n",
      " |-- truck: integer (nullable = true)\n",
      " |-- unknownVehicleType: integer (nullable = true)\n",
      " |-- urban: string (nullable = true)\n",
      " |-- vanOrUtility: integer (nullable = true)\n",
      " |-- vehicle: integer (nullable = true)\n",
      " |-- waterRiver: integer (nullable = true)\n",
      " |-- weatherA: string (nullable = true)\n",
      " |-- weatherB: string (nullable = true)\n",
      "\n"
     ]
    }
   ],
   "source": [
    "df1.printSchema()"
   ]
  },
  {
   "cell_type": "code",
   "execution_count": 5,
   "metadata": {},
   "outputs": [],
   "source": [
    "import matplotlib.pyplot as plt\n",
    "import numpy as np\n",
    "%matplotlib inline"
   ]
  },
  {
   "cell_type": "code",
   "execution_count": 6,
   "metadata": {},
   "outputs": [
    {
     "data": {
      "image/png": "[encoded data removed]",
      "text/plain": [
       "<Figure size 432x288 with 1 Axes>"
      ]
     },
     "metadata": {},
     "output_type": "display_data"
    }
   ],
   "source": [
    "#Crash count by regions\n",
    "Arr = np.array(df.select('region').collect())\n",
    "fig, ax = plt.subplots()\n",
    "ax.set_title('Crash count by regions')\n",
    "ax.set_xlabel('Region')\n",
    "ax.set_ylabel('Count')\n",
    "plt.hist(Arr)\n",
    "plt.show()"
   ]
  },
  {
   "cell_type": "code",
   "execution_count": 7,
   "metadata": {
    "scrolled": false
   },
   "outputs": [
    {
     "data": {
      "image/png": "[encoded data removed]",
      "text/plain": [
       "<Figure size 432x288 with 1 Axes>"
      ]
     },
     "metadata": {},
     "output_type": "display_data"
    }
   ],
   "source": [
    "#Crash count by years\n",
    "Arr = np.array(df.select('crashYear').collect())\n",
    "fig, ax = plt.subplots()\n",
    "ax.set_title('Crash count by Years')\n",
    "ax.set_xlabel('Year')\n",
    "ax.set_ylabel('Count')\n",
    "plt.hist(Arr)\n",
    "plt.show()"
   ]
  },
  {
   "cell_type": "code",
   "execution_count": 8,
   "metadata": {
    "scrolled": true
   },
   "outputs": [
    {
     "data": {
      "image/png": "[encoded data removed]",
      "text/plain": [
       "<Figure size 432x288 with 1 Axes>"
      ]
     },
     "metadata": {},
     "output_type": "display_data"
    }
   ],
   "source": [
    "#Crash historic distribution on open or urban road\n",
    "Arr = np.array(df.select('urban').collect())\n",
    "fig, ax = plt.subplots()\n",
    "ax.set_title('Crash historic distribution on open or urban road')\n",
    "ax.set_xlabel('Urban')\n",
    "ax.set_ylabel('Count')\n",
    "plt.hist(Arr)\n",
    "plt.show()"
   ]
  },
  {
   "cell_type": "code",
   "execution_count": 9,
   "metadata": {
    "scrolled": true
   },
   "outputs": [
    {
     "data": {
      "image/png": "[encoded data removed]",
      "text/plain": [
       "<Figure size 432x288 with 1 Axes>"
      ]
     },
     "metadata": {},
     "output_type": "display_data"
    }
   ],
   "source": [
    "#Fatal Count\n",
    "Arr = np.array(df.filter('fatalCount > 0').select('speedLimit').collect())\n",
    "fig, ax = plt.subplots()\n",
    "ax.set_title('Fatal count by Speed Limit')\n",
    "ax.set_xlabel('Speed Limit')\n",
    "ax.set_ylabel('Fatal Count')\n",
    "plt.hist(Arr)\n",
    "plt.show()"
   ]
  },
  {
   "cell_type": "code",
   "execution_count": 10,
   "metadata": {
    "scrolled": true
   },
   "outputs": [
    {
     "name": "stdout",
     "output_type": "stream",
     "text": [
      "+-------+------------------+-----------------+------------------+-----------------+-----------------+-------------------+--------------------+-------------------+------------------+-------------------+-------------------------+------------------+---------------+---------------+-----------------+-------------+------------------+------------------+--------------------+------------------------+-------------------+--------------------+-------------------+--------+--------------------+------------------+--------------------+------------------+-------------------+----------+------------------+------------------+-------------------+-------------------+------------------+---------------------+-------------------+--------------------+--------------------+-------------------+-------------------+--------------------+-------------------+-----------------+-------------+--------+-----------+--------------------+--------------------+-------------------+--------------------+------------------+-----------+-----------+------------------+--------------------+-------------------+------------------+------------------+--------------+-------------------+-------------------+--------------------+-------------------+-------------------+--------------------+-----+-------------------+--------------------+--------------------+--------+-----------+\n",
      "|summary|                 X|                Y|          OBJECTID|    advisorySpeed|       areaUnitID|            bicycle|              bridge|                bus|   carStationWagon|          cliffBank|crashDirectionDescription|crashFinancialYear| crashLocation1| crashLocation2|crashRoadSideRoad|crashSeverity|crashSHDescription|         crashYear|              debris|directionRoleDescription|              ditch|          fatalCount|              fence|flatHill|           guardRail|           holiday|     houseOrBuilding|      intersection|               kerb|     light|       meshblockId|  minorInjuryCount|              moped|         motorcycle|     NumberOfLanes|objectThrownOrDropped|        otherObject|    otherVehicleType|            overBank|      parkedVehicle|         pedestrian|         phoneBoxEtc|         postOrPole|           region|roadCharacter|roadLane|roadSurface|           roadworks|           schoolBus| seriousInjuryCount|         slipOrFlood|        speedLimit|strayAnimal|streetLight|               suv|                taxi|temporarySpeedLimit|             tlaId|           tlaName|trafficControl|      trafficIsland|        trafficSign|               train|               tree|              truck|  unknownVehicleType|urban|       vanOrUtility|             vehicle|          waterRiver|weatherA|   weatherB|\n",
      "+-------+------------------+-----------------+------------------+-----------------+-----------------+-------------------+--------------------+-------------------+------------------+-------------------+-------------------------+------------------+---------------+---------------+-----------------+-------------+------------------+------------------+--------------------+------------------------+-------------------+--------------------+-------------------+--------+--------------------+------------------+--------------------+------------------+-------------------+----------+------------------+------------------+-------------------+-------------------+------------------+---------------------+-------------------+--------------------+--------------------+-------------------+-------------------+--------------------+-------------------+-----------------+-------------+--------+-----------+--------------------+--------------------+-------------------+--------------------+------------------+-----------+-----------+------------------+--------------------+-------------------+------------------+------------------+--------------+-------------------+-------------------+--------------------+-------------------+-------------------+--------------------+-----+-------------------+--------------------+--------------------+--------+-----------+\n",
      "|  count|              3000|             3000|              3000|              125|             3000|               3000|                1163|               3000|              3000|               1163|                     3000|              3000|           3000|           3000|                2|         3000|              3000|              3000|                1163|                    3000|               1163|                2999|               1163|    3000|                1163|               160|                1163|                 3|               1163|      3000|              3000|              2999|               3000|               3000|              2999|                 1163|               1163|                3000|                1163|               1163|                106|                1163|               1163|             3000|         3000|    3000|       3000|                1163|                3000|               2999|                1163|              2997|       1163|       3000|              3000|                3000|                 41|              3000|              3000|          3000|               1163|               1163|                1163|               1163|               3000|                3000| 3000|               3000|                1163|                1163|    3000|       3000|\n",
      "|   mean|1716722.5721290007|5643663.980018667|          2167.166|             55.2|546281.3603333334|              0.022|0.018056749785038694|              0.014|1.3243333333333334|0.11349957007738606|                     null|              null|           null|           null|              1.0|         null|              null|          2009.762|0.008598452278589854|                    null|0.09458297506448839|0.014671557185728577|0.22098022355975924|    null|0.061049011177987965|              null|0.025795356835769563|0.6666666666666666| 0.0412725709372313|      null|1350374.4333333333|0.3087695898632878|              0.008|              0.036| 2.324108036012004| 0.005159071367153913|0.02235597592433362|               0.002|0.043852106620808254|0.24935511607910577| 1.0566037735849056|0.009458297506448839|0.12209802235597593|             null|         null|    null|       null|8.598452278589854E-4|6.666666666666666E-4|0.07269089696565521|8.598452278589854E-4| 65.68234901568235|        0.0|       null|             0.098|0.005666666666666667| 41.951219512195124|52.769666666666666|              null|          null|0.03697334479793637|0.05331040412725709|8.598452278589854E-4|0.09286328460877043|0.08566666666666667|0.002666666666666...| null|0.17833333333333334|0.029234737747205503|0.008598452278589854|    null|       null|\n",
      "| stddev| 155758.1074391524|334502.9109378037|1723.7200372158952|17.59077837592662|32811.53211337495|0.14896329532623623|  0.1332139720648042|0.12031413811605929|0.7681175411840169|0.32003933809112384|                     null|              null|           null|           null|              0.0|         null|              null|6.0351329957805255|  0.0923680408571327|                    null|0.29276395587217147| 0.13588154040667735| 0.4192117044369766|    null| 0.23952319282734502|              null| 0.15859250571823608|0.5773502691896257|0.19900552365865334|      null| 915339.4478619476|0.6112355185755411|0.08909908088978886|0.19161481870212632|0.8900470692735634|  0.08281330002333438|0.14790197894276802|0.044684063772054854|  0.2048540527497623|0.47636660582707824|0.27010363722609754| 0.09683439883704402| 0.3301567989576753|             null|         null|    null|       null| 0.02932311763539112|0.025815583866061816| 0.3110985637458629| 0.02932311763539112|22.352689376988963|        0.0|       null|0.3179565464889058| 0.07939347158298904|  16.15851357568541|24.118717158976064|              null|          null|0.18877753796833038|0.22474838664893568|0.029323117635391124|0.29036561507006925| 0.2927281767853075| 0.05768302464908071| null| 0.4073317999951858| 0.16853632048425324| 0.09236804085713275|    null|       null|\n",
      "|    min|         1171210.0|        4829161.0|                 1|               20|           500202|                  0|                   0|                  0|                 0|                  0|                     East|         1999/2000|       002-0073|      1 LINK 16|                1|  Fatal Crash|                No|              2000|                   0|                    East|                  0|                   0|                  0|    Flat|                   0|Christmas New Year|                   0|                 0|                  0|Bright sun|              1900|                 0|                  0|                  0|                 0|                    0|                  0|                   0|                   0|                  0|                  1|                   0|                  0|  Auckland Region|       Bridge|   1-way|End of seal|                   0|                   0|                  0|                   0|                10|          0|       None|                 0|                   0|                 30|                 1|Ashburton District|      Give way|                  0|                  0|                   0|                  0|                  0|                   0| Open|                  0|                   0|                   0|    Fine|      Frost|\n",
      "|    max|         2071493.0|        6131971.0|              4998|               90|           612740|                  2|                   1|                  2|                 6|                  2|                     West|         2020/2021|Z TRACK N OF RD|ZWIES ROAD EAST|                1|Serious Crash|               Yes|              2020|                   1|                    West|                  1|                   3|                  2|    Null|                   1|   Queens Birthday|                   1|                 1|                  1|   Unknown|           3194800|                 6|                  1|                  2|                 8|                    2|                  1|                   1|                   1|                  4|                  3|                   1|                  2|West Coast Region|    Underpass|Off road|   Unsealed|                   1|                   1|                  4|                   1|               100|          0|         On|                 3|                   2|                 80|                76|Whangarei District|       Unknown|                  1|                  1|                   1|                  1|                  3|                   2|Urban|                  2|                   1|                   1|    Snow|Strong wind|\n",
      "+-------+------------------+-----------------+------------------+-----------------+-----------------+-------------------+--------------------+-------------------+------------------+-------------------+-------------------------+------------------+---------------+---------------+-----------------+-------------+------------------+------------------+--------------------+------------------------+-------------------+--------------------+-------------------+--------+--------------------+------------------+--------------------+------------------+-------------------+----------+------------------+------------------+-------------------+-------------------+------------------+---------------------+-------------------+--------------------+--------------------+-------------------+-------------------+--------------------+-------------------+-----------------+-------------+--------+-----------+--------------------+--------------------+-------------------+--------------------+------------------+-----------+-----------+------------------+--------------------+-------------------+------------------+------------------+--------------+-------------------+-------------------+--------------------+-------------------+-------------------+--------------------+-----+-------------------+--------------------+--------------------+--------+-----------+\n",
      "\n"
     ]
    }
   ],
   "source": [
    "#2.4\n",
    "df.describe().show()"
   ]
  },
  {
   "cell_type": "code",
   "execution_count": 11,
   "metadata": {},
   "outputs": [
    {
     "name": "stdout",
     "output_type": "stream",
     "text": [
      "Data Entries Amount Before Selection:  3000\n",
      "Data Entries Amount After Selection:  894\n"
     ]
    }
   ],
   "source": [
    "#3.1\n",
    "df = df1.union(df2)\n",
    "print(\"Data Entries Amount Before Selection: \", df.count())\n",
    "df = df.filter(\"crashSeverity == 'Serious Crash' or crashSeverity == 'Fatal Crash' or crashSeverity == 'Minor Crash'\")\n",
    "print(\"Data Entries Amount After Selection: \", df.count())"
   ]
  },
  {
   "cell_type": "code",
   "execution_count": 12,
   "metadata": {},
   "outputs": [
    {
     "name": "stdout",
     "output_type": "stream",
     "text": [
      "Before: Data columns (total 72 columns)\n",
      "After: Data columns (total 66 columns)\n"
     ]
    }
   ],
   "source": [
    "print(\"Before: Data columns (total\", len(df.columns),\"columns)\")\n",
    "df = df.drop('areaUnitID','crashFinancialYear','crashRoadSideRoad','intersection','tlaId','tlaName')\n",
    "print(\"After: Data columns (total\", len(df.columns),\"columns)\")"
   ]
  },
  {
   "cell_type": "code",
   "execution_count": 13,
   "metadata": {
    "scrolled": true
   },
   "outputs": [
    {
     "name": "stdout",
     "output_type": "stream",
     "text": [
      "+---+---+--------+-------------+-------+------+---+---------------+---------+-------------------------+--------------+--------------+-------------+------------------+---------+------+------------------------+-----+----------+-----+--------+---------+-------+---------------+----+-----+-----------+----------------+-----+----------+-------------+---------------------+-----------+----------------+--------+-------------+----------+-----------+----------+------+-------------+--------+-----------+---------+---------+------------------+-----------+----------+-----------+-----------+---+----+-------------------+--------------+-------------+-----------+-----+----+-----+------------------+-----+------------+-------+----------+--------+--------+\n",
      "|  X|  Y|OBJECTID|advisorySpeed|bicycle|bridge|bus|carStationWagon|cliffBank|crashDirectionDescription|crashLocation1|crashLocation2|crashSeverity|crashSHDescription|crashYear|debris|directionRoleDescription|ditch|fatalCount|fence|flatHill|guardRail|holiday|houseOrBuilding|kerb|light|meshblockId|minorInjuryCount|moped|motorcycle|NumberOfLanes|objectThrownOrDropped|otherObject|otherVehicleType|overBank|parkedVehicle|pedestrian|phoneBoxEtc|postOrPole|region|roadCharacter|roadLane|roadSurface|roadworks|schoolBus|seriousInjuryCount|slipOrFlood|speedLimit|strayAnimal|streetLight|suv|taxi|temporarySpeedLimit|trafficControl|trafficIsland|trafficSign|train|tree|truck|unknownVehicleType|urban|vanOrUtility|vehicle|waterRiver|weatherA|weatherB|\n",
      "+---+---+--------+-------------+-------+------+---+---------------+---------+-------------------------+--------------+--------------+-------------+------------------+---------+------+------------------------+-----+----------+-----+--------+---------+-------+---------------+----+-----+-----------+----------------+-----+----------+-------------+---------------------+-----------+----------------+--------+-------------+----------+-----------+----------+------+-------------+--------+-----------+---------+---------+------------------+-----------+----------+-----------+-----------+---+----+-------------------+--------------+-------------+-----------+-----+----+-----+------------------+-----+------------+-------+----------+--------+--------+\n",
      "|  0|  0|       0|            0|      0|     0|  0|              0|        0|                        0|             0|             0|            0|                 0|        0|     0|                       0|    0|         0|    0|       0|        0|      0|              0|   0|    0|          0|               0|    0|         0|            0|                    0|          0|               0|       0|            0|         0|          0|         0|     0|            0|       0|          0|        0|        0|                 0|          0|         0|          0|          0|  0|   0|                  0|             0|            0|          0|    0|   0|    0|                 0|    0|           0|      0|         0|       0|       0|\n",
      "+---+---+--------+-------------+-------+------+---+---------------+---------+-------------------------+--------------+--------------+-------------+------------------+---------+------+------------------------+-----+----------+-----+--------+---------+-------+---------------+----+-----+-----------+----------------+-----+----------+-------------+---------------------+-----------+----------------+--------+-------------+----------+-----------+----------+------+-------------+--------+-----------+---------+---------+------------------+-----------+----------+-----------+-----------+---+----+-------------------+--------------+-------------+-----------+-----+----+-----+------------------+-----+------------+-------+----------+--------+--------+\n",
      "\n",
      "+-------+------------------+-----------------+------------------+------------------+------------------+--------------------+--------------------+------------------+------------------+-------------------------+----------------+---------------+-------------+------------------+------------------+--------------------+------------------------+--------------------+--------------------+------------------+--------+-------------------+------------------+--------------------+--------------------+----------+------------------+------------------+--------------------+------------------+------------------+---------------------+--------------------+--------------------+-------------------+--------------------+-------------------+--------------------+-------------------+-----------------+-------------+--------+-----------+---------+--------------------+-------------------+-----------+------------------+-----------+-----------+-------------------+--------------------+-------------------+--------------+--------------------+-------------------+-----+--------------------+------------------+--------------------+-----+-------------------+--------------------+--------------------+--------+-----------+\n",
      "|summary|                 X|                Y|          OBJECTID|     advisorySpeed|           bicycle|              bridge|                 bus|   carStationWagon|         cliffBank|crashDirectionDescription|  crashLocation1| crashLocation2|crashSeverity|crashSHDescription|         crashYear|              debris|directionRoleDescription|               ditch|          fatalCount|             fence|flatHill|          guardRail|           holiday|     houseOrBuilding|                kerb|     light|       meshblockId|  minorInjuryCount|               moped|        motorcycle|     NumberOfLanes|objectThrownOrDropped|         otherObject|    otherVehicleType|           overBank|       parkedVehicle|         pedestrian|         phoneBoxEtc|         postOrPole|           region|roadCharacter|roadLane|roadSurface|roadworks|           schoolBus| seriousInjuryCount|slipOrFlood|        speedLimit|strayAnimal|streetLight|                suv|                taxi|temporarySpeedLimit|trafficControl|       trafficIsland|        trafficSign|train|                tree|             truck|  unknownVehicleType|urban|       vanOrUtility|             vehicle|          waterRiver|weatherA|   weatherB|\n",
      "+-------+------------------+-----------------+------------------+------------------+------------------+--------------------+--------------------+------------------+------------------+-------------------------+----------------+---------------+-------------+------------------+------------------+--------------------+------------------------+--------------------+--------------------+------------------+--------+-------------------+------------------+--------------------+--------------------+----------+------------------+------------------+--------------------+------------------+------------------+---------------------+--------------------+--------------------+-------------------+--------------------+-------------------+--------------------+-------------------+-----------------+-------------+--------+-----------+---------+--------------------+-------------------+-----------+------------------+-----------+-----------+-------------------+--------------------+-------------------+--------------+--------------------+-------------------+-----+--------------------+------------------+--------------------+-----+-------------------+--------------------+--------------------+--------+-----------+\n",
      "|  count|               894|              894|               894|               894|               894|                 894|                 894|               894|               894|                      894|             894|            894|          894|               894|               894|                 894|                     894|                 894|                 894|               894|     894|                894|               894|                 894|                 894|       894|               894|               894|                 894|               894|               894|                  894|                 894|                 894|                894|                 894|                894|                 894|                894|              894|          894|     894|        894|      894|                 894|                894|        894|               894|        894|        894|                894|                 894|                894|           894|                 894|                894|  894|                 894|               894|                 894|  894|                894|                 894|                 894|     894|        894|\n",
      "|   mean| 1698764.872175615|5600986.471317672|2174.7740492170024| 2.757270693512304|0.0592841163310962|0.011185682326621925|0.015659955257270694|1.1554809843400446| 0.058165548098434|                     null|            null|           null|         null|              null|2009.9317673378075|0.004474272930648...|                    null|0.053691275167785234|0.049217002237136466| 0.087248322147651|    null| 0.0145413870246085|              null|0.008948545861297539|0.015659955257270694|      null|1465705.0559284117|1.0357941834451903|0.017897091722595078|0.0883668903803132| 2.256152125279642| 0.004474272930648...|0.008948545861297539|0.003355704697986577|  0.029082774049217|0.049217002237136466|0.11297539149888143|0.002237136465324...|0.05592841163310962|             null|         null|    null|       null|      0.0|0.001118568232662...|0.24384787472035793|        0.0| 70.13422818791946|        0.0|       null|0.10626398210290827|0.002237136465324...| 0.9955257270693513|          null|0.013422818791946308|0.01901565995525727|  0.0|0.050335570469798654|0.0738255033557047|0.001118568232662...| null|0.16331096196868009|0.007829977628635347|0.006711409395973154|    null|       null|\n",
      "| stddev|171186.49346695835|353576.4752536944|1739.2791173659261|12.741654174759791|0.2362878789542697| 0.10522807936169909| 0.13293466230316056|0.7800624082598882|0.2389211274666249|                     null|            null|           null|         null|              null| 6.089003710782956| 0.06677755445197225|                    null|  0.2255336307072785|  0.2455299178089457|0.2823565663134024|    null|0.11977471372453398|              null| 0.09422526457912002| 0.12422553193414189|      null| 945425.3003797494|0.7073874984290118| 0.13265168178859277|0.2917664770168296|0.8253684665719787|  0.08184670693388307|    0.09422526457912|0.057863538795646194|0.16813264598472083| 0.24552991780894573|0.34059016933478137| 0.04727188671201884| 0.2299120514899526|             null|         null|    null|       null|      0.0|0.033445003104532564| 0.5321060054351145|        0.0|23.718767820863576|        0.0|       null|0.32941789526419973|0.047271886712018825|  7.068215220876615|          null| 0.11514111393962263|0.13665633480317405|  0.0| 0.21875884068869408|0.2658787470834069| 0.03344500310453256| null|  0.387596896894395|  0.0881893904980416| 0.08169352187178938|    null|       null|\n",
      "|    min|         1171210.0|        4846274.0|                 4|                 0|                 0|                   0|                   0|                 0|                 0|                     East|        002-0073|     32 LINK 30|  Fatal Crash|                No|              2000|                   0|                    East|                   0|                   0|                 0|    Flat|                  0|Christmas New Year|                   0|                   0|Bright sun|              3400|                 0|                   0|                 0|                 0|                    0|                   0|                   0|                  0|                   0|                  0|                   0|                  0|  Auckland Region|       Bridge|   1-way|End of seal|        0|                   0|                  0|          0|                10|          0|       None|                  0|                   0|                  0|      Give way|                   0|                  0|    0|                   0|                 0|                   0| Open|                  0|                   0|                   0|    Fine|      Frost|\n",
      "|    max|         2045333.0|      6125845.051|              4996|                85|                 1|                   1|                   2|                 5|                 2|                     West|Z MOUNTAIN TRACK|ZWIES ROAD EAST|Serious Crash|               Yes|              2020|                   1|                    West|                   1|                   3|                 1|    Null|                  1|   Queens Birthday|                   1|                   1|  Twilight|           3192300|                 6|                   1|                 2|                 8|                    2|                   1|                   1|                  1|                   3|                  3|                   1|                  1|West Coast Region|    Underpass|Off road|   Unsealed|        0|                   1|                  4|          0|               100|          0|         On|                  2|                   1|                 80|       Unknown|                   1|                  1|    0|                   1|                 2|                   1|Urban|                  2|                   1|                   1|    Snow|Strong wind|\n",
      "+-------+------------------+-----------------+------------------+------------------+------------------+--------------------+--------------------+------------------+------------------+-------------------------+----------------+---------------+-------------+------------------+------------------+--------------------+------------------------+--------------------+--------------------+------------------+--------+-------------------+------------------+--------------------+--------------------+----------+------------------+------------------+--------------------+------------------+------------------+---------------------+--------------------+--------------------+-------------------+--------------------+-------------------+--------------------+-------------------+-----------------+-------------+--------+-----------+---------+--------------------+-------------------+-----------+------------------+-----------+-----------+-------------------+--------------------+-------------------+--------------+--------------------+-------------------+-----+--------------------+------------------+--------------------+-----+-------------------+--------------------+--------------------+--------+-----------+\n",
      "\n"
     ]
    }
   ],
   "source": [
    "#3.2\n",
    "df = df.na.fill(value='Null',subset=['holiday'])\n",
    "df_dtypes = dict(df.dtypes)\n",
    "for column in df.columns:\n",
    "    if df_dtypes[column] != 'string':\n",
    "        df = df.na.fill(value=0,subset=[column])\n",
    "    else:\n",
    "        df = df.na.drop(subset=[column])\n",
    "\n",
    "from pyspark.sql.functions import col,sum\n",
    "df.select(*(sum(col(c).isNull().cast(\"int\")).alias(c) for c in df.columns)).show()\n",
    "\n",
    "df.describe().show()"
   ]
  },
  {
   "cell_type": "code",
   "execution_count": 14,
   "metadata": {
    "scrolled": true
   },
   "outputs": [
    {
     "name": "stdout",
     "output_type": "stream",
     "text": [
      "root\n",
      " |-- X: double (nullable = false)\n",
      " |-- Y: double (nullable = false)\n",
      " |-- OBJECTID: integer (nullable = true)\n",
      " |-- advisorySpeed: integer (nullable = true)\n",
      " |-- bicycle: integer (nullable = true)\n",
      " |-- bridge: integer (nullable = true)\n",
      " |-- bus: integer (nullable = true)\n",
      " |-- carStationWagon: integer (nullable = true)\n",
      " |-- cliffBank: integer (nullable = true)\n",
      " |-- crashDirectionDescription: string (nullable = true)\n",
      " |-- crashLocation1: string (nullable = true)\n",
      " |-- crashLocation2: string (nullable = true)\n",
      " |-- crashSeverity: string (nullable = true)\n",
      " |-- crashSHDescription: string (nullable = true)\n",
      " |-- crashYear: integer (nullable = true)\n",
      " |-- debris: integer (nullable = true)\n",
      " |-- directionRoleDescription: string (nullable = true)\n",
      " |-- ditch: integer (nullable = true)\n",
      " |-- fatalCount: integer (nullable = true)\n",
      " |-- fence: integer (nullable = true)\n",
      " |-- flatHill: string (nullable = true)\n",
      " |-- guardRail: integer (nullable = true)\n",
      " |-- holiday: string (nullable = false)\n",
      " |-- houseOrBuilding: integer (nullable = true)\n",
      " |-- kerb: integer (nullable = true)\n",
      " |-- light: string (nullable = true)\n",
      " |-- meshblockId: integer (nullable = true)\n",
      " |-- minorInjuryCount: integer (nullable = true)\n",
      " |-- moped: integer (nullable = true)\n",
      " |-- motorcycle: integer (nullable = true)\n",
      " |-- NumberOfLanes: integer (nullable = true)\n",
      " |-- objectThrownOrDropped: integer (nullable = true)\n",
      " |-- otherObject: integer (nullable = true)\n",
      " |-- otherVehicleType: integer (nullable = true)\n",
      " |-- overBank: integer (nullable = true)\n",
      " |-- parkedVehicle: integer (nullable = true)\n",
      " |-- pedestrian: integer (nullable = true)\n",
      " |-- phoneBoxEtc: integer (nullable = true)\n",
      " |-- postOrPole: integer (nullable = true)\n",
      " |-- region: string (nullable = true)\n",
      " |-- roadCharacter: string (nullable = true)\n",
      " |-- roadLane: string (nullable = true)\n",
      " |-- roadSurface: string (nullable = true)\n",
      " |-- roadworks: integer (nullable = true)\n",
      " |-- schoolBus: integer (nullable = true)\n",
      " |-- seriousInjuryCount: integer (nullable = true)\n",
      " |-- slipOrFlood: integer (nullable = true)\n",
      " |-- speedLimit: integer (nullable = true)\n",
      " |-- strayAnimal: integer (nullable = true)\n",
      " |-- streetLight: string (nullable = true)\n",
      " |-- suv: integer (nullable = true)\n",
      " |-- taxi: integer (nullable = true)\n",
      " |-- temporarySpeedLimit: integer (nullable = true)\n",
      " |-- trafficControl: string (nullable = true)\n",
      " |-- trafficIsland: integer (nullable = true)\n",
      " |-- trafficSign: integer (nullable = true)\n",
      " |-- train: integer (nullable = true)\n",
      " |-- tree: integer (nullable = true)\n",
      " |-- truck: integer (nullable = true)\n",
      " |-- unknownVehicleType: integer (nullable = true)\n",
      " |-- urban: string (nullable = true)\n",
      " |-- vanOrUtility: integer (nullable = true)\n",
      " |-- vehicle: integer (nullable = true)\n",
      " |-- waterRiver: integer (nullable = true)\n",
      " |-- windy: integer (nullable = false)\n",
      " |-- raining: integer (nullable = false)\n",
      "\n"
     ]
    }
   ],
   "source": [
    "#3.3\n",
    "from pyspark.sql.functions import when\n",
    "from pyspark.sql.functions import lit\n",
    "\n",
    "df = df.withColumn(\"windy\", \\\n",
    "   when((df.weatherB.isNull()), lit(0)).otherwise(lit(1))\n",
    "  )\n",
    "df = df.withColumn(\"raining\", \\\n",
    "   when((df.weatherA == 'Fine'), lit(0)).otherwise(lit(1))\n",
    "  )\n",
    "df = df.drop('weatherA', 'weatherB')\n",
    "df.printSchema()\n"
   ]
  },
  {
   "cell_type": "code",
   "execution_count": 15,
   "metadata": {
    "scrolled": true
   },
   "outputs": [
    {
     "name": "stdout",
     "output_type": "stream",
     "text": [
      "root\n",
      " |-- X: double (nullable = false)\n",
      " |-- Y: double (nullable = false)\n",
      " |-- OBJECTID: integer (nullable = true)\n",
      " |-- advisorySpeed: integer (nullable = true)\n",
      " |-- bicycle: integer (nullable = true)\n",
      " |-- bridge: integer (nullable = true)\n",
      " |-- bus: integer (nullable = true)\n",
      " |-- carStationWagon: integer (nullable = true)\n",
      " |-- cliffBank: integer (nullable = true)\n",
      " |-- crashDirectionDescription: string (nullable = true)\n",
      " |-- crashLocation1: string (nullable = true)\n",
      " |-- crashLocation2: string (nullable = true)\n",
      " |-- crashSeverity: string (nullable = true)\n",
      " |-- highwayCrash: integer (nullable = false)\n",
      " |-- crashYear: integer (nullable = true)\n",
      " |-- debris: integer (nullable = true)\n",
      " |-- directionRoleDescription: string (nullable = true)\n",
      " |-- ditch: integer (nullable = true)\n",
      " |-- fatalCount: integer (nullable = true)\n",
      " |-- fence: integer (nullable = true)\n",
      " |-- hill: integer (nullable = false)\n",
      " |-- guardRail: integer (nullable = true)\n",
      " |-- holiday: integer (nullable = false)\n",
      " |-- houseOrBuilding: integer (nullable = true)\n",
      " |-- kerb: integer (nullable = true)\n",
      " |-- light: string (nullable = true)\n",
      " |-- meshblockId: integer (nullable = true)\n",
      " |-- minorInjuryCount: integer (nullable = true)\n",
      " |-- moped: integer (nullable = true)\n",
      " |-- motorcycle: integer (nullable = true)\n",
      " |-- NumberOfLanes: integer (nullable = true)\n",
      " |-- objectThrownOrDropped: integer (nullable = true)\n",
      " |-- otherObject: integer (nullable = true)\n",
      " |-- otherVehicleType: integer (nullable = true)\n",
      " |-- overBank: integer (nullable = true)\n",
      " |-- parkedVehicle: integer (nullable = true)\n",
      " |-- pedestrian: integer (nullable = true)\n",
      " |-- phoneBoxEtc: integer (nullable = true)\n",
      " |-- postOrPole: integer (nullable = true)\n",
      " |-- region: string (nullable = true)\n",
      " |-- roadCharacter: string (nullable = true)\n",
      " |-- roadLane: string (nullable = true)\n",
      " |-- sealedRoad: integer (nullable = false)\n",
      " |-- roadworks: integer (nullable = true)\n",
      " |-- schoolBus: integer (nullable = true)\n",
      " |-- seriousInjuryCount: integer (nullable = true)\n",
      " |-- slipOrFlood: integer (nullable = true)\n",
      " |-- speedLimit: integer (nullable = true)\n",
      " |-- strayAnimal: integer (nullable = true)\n",
      " |-- streetLight: string (nullable = true)\n",
      " |-- suv: integer (nullable = true)\n",
      " |-- taxi: integer (nullable = true)\n",
      " |-- temporarySpeedLimit: integer (nullable = true)\n",
      " |-- trafficControl: string (nullable = true)\n",
      " |-- trafficIsland: integer (nullable = true)\n",
      " |-- trafficSign: integer (nullable = true)\n",
      " |-- train: integer (nullable = true)\n",
      " |-- tree: integer (nullable = true)\n",
      " |-- truck: integer (nullable = true)\n",
      " |-- unknownVehicleType: integer (nullable = true)\n",
      " |-- urban: integer (nullable = false)\n",
      " |-- vanOrUtility: integer (nullable = true)\n",
      " |-- vehicle: integer (nullable = true)\n",
      " |-- waterRiver: integer (nullable = true)\n",
      " |-- windy: integer (nullable = false)\n",
      " |-- raining: integer (nullable = false)\n",
      "\n"
     ]
    }
   ],
   "source": [
    "#3.5\n",
    "import pandas as pd\n",
    "\n",
    "\n",
    "#data_types = pd.DataFrame(df.toPandas().dtypes, columns=['Data Type'])\n",
    "#print(data_types)\n",
    "\n",
    "df = df.withColumn(\"holiday\", \\\n",
    "   when((df.holiday == 'Null'), lit(0)).otherwise(lit(1)))\n",
    "df = df.withColumn(\"holiday\",df.holiday.cast('int'))\n",
    "\n",
    "df = df.withColumn(\"urban\", \\\n",
    "   when((df.urban == 'Urban'), lit(1)).otherwise(lit(0)))\n",
    "df = df.withColumn(\"urban\",df.urban.cast('int'))\n",
    "\n",
    "df = df.withColumn(\"flatHill\", \\\n",
    "   when((df.flatHill == 'Flat'), lit(0)).otherwise(lit(1)))\n",
    "df = df.withColumn(\"flatHill\",df.flatHill.cast('int'))\n",
    "df = df.withColumnRenamed(\"flatHill\",\"hill\")\n",
    "\n",
    "df = df.withColumn(\"roadSurface\", \\\n",
    "   when((df.roadSurface == 'Sealed'), lit(1)).otherwise(lit(0)))\n",
    "df = df.withColumn(\"roadSurface\",df.roadSurface.cast('int'))\n",
    "df = df.withColumnRenamed(\"roadSurface\",\"sealedRoad\")\n",
    "\n",
    "df = df.withColumn(\"crashSHDescription\", \\\n",
    "   when((df.crashSHDescription == 'Yes'), lit(1)).otherwise(lit(0)))\n",
    "df = df.withColumn(\"crashSHDescription\",df.crashSHDescription.cast('int'))\n",
    "df = df.withColumnRenamed(\"crashSHDescription\",\"highwayCrash\")\n",
    "\n",
    "#df.show()\n",
    "df.printSchema()\n",
    "\n"
   ]
  },
  {
   "cell_type": "code",
   "execution_count": 16,
   "metadata": {
    "scrolled": true
   },
   "outputs": [
    {
     "name": "stderr",
     "output_type": "stream",
     "text": [
      "/usr/lib/python3/dist-packages/sklearn/feature_selection/univariate_selection.py:165: RuntimeWarning: invalid value encountered in true_divide\n",
      "  chisq /= f_exp\n"
     ]
    },
    {
     "name": "stdout",
     "output_type": "stream",
     "text": [
      "                  Specs       Score\n",
      "30           speedLimit  248.182350\n",
      "34  temporarySpeedLimit   64.524129\n",
      "39                truck   16.799158\n",
      "21             overBank   13.636966\n",
      "0         advisorySpeed   12.322302\n",
      "6          highwayCrash   12.244574\n",
      "41                urban   10.675380\n",
      "16           motorcycle    8.737659\n",
      "38                 tree    8.627620\n",
      "11            guardRail    7.780526\n",
      "4       carStationWagon    4.768025\n",
      "32                  suv    4.491158\n",
      "7                debris    4.350585\n",
      "40   unknownVehicleType    4.258824\n",
      "23           pedestrian    3.429204\n"
     ]
    },
    {
     "data": {
      "image/png": "[encoded data removed]",
      "text/plain": [
       "<Figure size 432x288 with 1 Axes>"
      ]
     },
     "metadata": {},
     "output_type": "display_data"
    }
   ],
   "source": [
    "#4.1 Data Reduction \n",
    "\n",
    "#print(\"Data columns: \", len(df.columns))\n",
    "import sklearn\n",
    "\n",
    "from sklearn.feature_selection import SelectKBest\n",
    "from sklearn.feature_selection import chi2 \n",
    "df82 = df\n",
    "df_41 = df.drop('x','y','meshblockId','minorInjuryCount','seriousInjuryCount','fatalCount','OBJECTID','crashYear')\n",
    "df_41 = df_41.toPandas()\n",
    "df_41n = df_41.select_dtypes(include='number')\n",
    "#df_41.info()\n",
    "\n",
    "X = df_41n   #independent columns\n",
    "y = df_41.iloc[:,9]    #target column\n",
    "bestfeatures = SelectKBest(score_func=chi2, k=10)\n",
    "fit = bestfeatures.fit(X,y)\n",
    "dfscores = pd.DataFrame(fit.scores_)\n",
    "dfcolumns = pd.DataFrame(X.columns)\n",
    "#concat two dataframes for better visualization \n",
    "featureScores = pd.concat([dfcolumns,dfscores],axis=1)\n",
    "featureScores.columns = ['Specs','Score'] #naming the dataframe columns\n",
    "print(featureScores.nlargest(15,'Score')) #print 35 best features\n",
    "\n",
    "\n",
    "\n",
    "from sklearn.ensemble import ExtraTreesClassifier\n",
    "import matplotlib.pyplot as plt\n",
    "model = ExtraTreesClassifier()\n",
    "model.fit(X,y)\n",
    "feat_importances = pd.Series(model.feature_importances_, index=X.columns)\n",
    "feat_importances.nlargest(20).plot(kind='barh')\n",
    "plt.show()\n"
   ]
  },
  {
   "cell_type": "code",
   "execution_count": 17,
   "metadata": {
    "scrolled": false
   },
   "outputs": [
    {
     "name": "stdout",
     "output_type": "stream",
     "text": [
      "Before Balanced:\n",
      "Minor Crash      685\n",
      "Serious Crash    170\n",
      "Fatal Crash       39\n",
      "Name: crashSeverity, dtype: int64\n"
     ]
    },
    {
     "data": {
      "image/png": "[encoded data removed]",
      "text/plain": [
       "<Figure size 432x288 with 1 Axes>"
      ]
     },
     "metadata": {},
     "output_type": "display_data"
    },
    {
     "name": "stdout",
     "output_type": "stream",
     "text": [
      "After Balanced:\n",
      "Fatal Crash      1023\n",
      "Serious Crash    1006\n",
      "Minor Crash      1003\n",
      "Name: crashSeverity, dtype: int64\n"
     ]
    },
    {
     "data": {
      "image/png": "[encoded data removed]",
      "text/plain": [
       "<Figure size 432x288 with 1 Axes>"
      ]
     },
     "metadata": {},
     "output_type": "display_data"
    }
   ],
   "source": [
    "from pyspark.sql.functions import col\n",
    "df = df.select('speedLimit','highwayCrash','carStationWagon','urban',\\\n",
    "               'truck','hill','holiday','tree','overBank','motorcycle',\\\n",
    "               'pedestrian','vanOrUtility','NumberOfLanes','raining','crashSeverity')\n",
    "\n",
    "print('Before Balanced:')\n",
    "print(df.toPandas()['crashSeverity'].value_counts())\n",
    "Arr = np.array(df.select('crashSeverity').collect())\n",
    "fig, ax = plt.subplots()\n",
    "ax.set_xlabel('crashSeverity')\n",
    "ax.set_ylabel('Count')\n",
    "plt.hist(Arr)\n",
    "plt.show()\n",
    "df_c=df\n",
    "def upsample_1000(df):\n",
    "    major_df = df.filter(col(\"crashSeverity\") == 'Minor Crash')\n",
    "    middle_df = df.filter(col(\"crashSeverity\") == 'Serious Crash')\n",
    "    minor_df = df.filter(col(\"crashSeverity\") == 'Fatal Crash')\n",
    "    major_df = major_df.sample(True, 1000/major_df.count(), 123)\n",
    "    middle_df = middle_df.sample(True, 1000/middle_df.count(), 123)\n",
    "    minor_df = minor_df.sample(True, 1000/minor_df.count(), 123)\n",
    "    return major_df.union(minor_df).union(middle_df)\n",
    "\n",
    "df = upsample_1000(df)\n",
    "df82 = upsample_1000(df82)\n",
    "\n",
    "print('After Balanced:')\n",
    "print(df.toPandas()['crashSeverity'].value_counts())\n",
    "Arr = np.array(df.select('crashSeverity').collect())\n",
    "fig, ax = plt.subplots()\n",
    "ax.set_xlabel('crashSeverity')\n",
    "ax.set_ylabel('Count')\n",
    "plt.hist(Arr)\n",
    "plt.show()"
   ]
  },
  {
   "cell_type": "code",
   "execution_count": 18,
   "metadata": {},
   "outputs": [],
   "source": [
    "df_backup = df\n",
    "#df.write.csv('ProcessedData.csv')\n",
    "from pyspark.ml.linalg import Vectors\n",
    "from pyspark.ml.feature import VectorAssembler\n",
    "from pyspark.ml.feature import StringIndexer\n",
    "df.columns\n",
    "assembler = VectorAssembler(inputCols=['speedLimit','highwayCrash','carStationWagon','urban',\\\n",
    "               'truck','hill','holiday','tree','overBank','motorcycle',\\\n",
    "               'pedestrian','vanOrUtility','NumberOfLanes','raining'], outputCol='features')\n",
    "output = assembler.transform(df)\n",
    "indexer = StringIndexer(inputCol=\"crashSeverity\", outputCol=\"crashSeverityIndex\")\n",
    "output_fixed = indexer.fit(output).transform(output)\n",
    "final_data = output_fixed.select(\"features\",'crashSeverityIndex')\n",
    "train_data,test_data = final_data.randomSplit([0.7,0.3])"
   ]
  },
  {
   "cell_type": "code",
   "execution_count": 19,
   "metadata": {
    "scrolled": false
   },
   "outputs": [
    {
     "name": "stdout",
     "output_type": "stream",
     "text": [
      "An Artificial Neural Network has an accuracy of: 51.33%\n",
      "[[255  29  39]\n",
      " [125  33 126]\n",
      " [ 82  37 174]]\n",
      "----------------------------------------\n",
      "A single decision tree has an accuracy of: 58.22%\n",
      "----------------------------------------\n",
      "+------------------+----------+--------------------+\n",
      "|crashSeverityIndex|prediction|         probability|\n",
      "+------------------+----------+--------------------+\n",
      "|               2.0|       0.0|[0.46666666666666...|\n",
      "|               2.0|       2.0|[0.09431137724550...|\n",
      "|               2.0|       2.0|[0.09431137724550...|\n",
      "|               2.0|       0.0|[0.72992700729927...|\n",
      "|               2.0|       1.0|[0.0,0.6454545454...|\n",
      "|               2.0|       1.0|[0.0,0.6454545454...|\n",
      "|               2.0|       0.0|[0.37082066869300...|\n",
      "|               2.0|       0.0|[0.37082066869300...|\n",
      "|               2.0|       0.0|[0.84117647058823...|\n",
      "|               2.0|       2.0|       [0.0,0.0,1.0]|\n",
      "|               2.0|       0.0|[0.37082066869300...|\n",
      "|               2.0|       0.0|[0.37082066869300...|\n",
      "|               2.0|       0.0|[0.37082066869300...|\n",
      "|               2.0|       1.0|[0.0,0.6454545454...|\n",
      "|               2.0|       1.0|[0.0,0.6454545454...|\n",
      "|               2.0|       0.0|[0.37082066869300...|\n",
      "|               2.0|       0.0|[0.37082066869300...|\n",
      "|               2.0|       0.0|[0.37082066869300...|\n",
      "|               2.0|       0.0|[0.37082066869300...|\n",
      "|               2.0|       0.0|[0.37082066869300...|\n",
      "+------------------+----------+--------------------+\n",
      "only showing top 20 rows\n",
      "\n",
      "----------------------------------------\n",
      "DTC Binary Evaluate:\n",
      "0.7588761126999374\n",
      "----------------------------------------\n",
      "A random forest ensemble has an accuracy of: 59.11%\n",
      "----------------------------------------\n",
      "+------------------+----------+--------------------+\n",
      "|crashSeverityIndex|prediction|         probability|\n",
      "+------------------+----------+--------------------+\n",
      "|               2.0|       2.0|[0.34475139392748...|\n",
      "|               2.0|       2.0|[0.18805951384230...|\n",
      "|               2.0|       2.0|[0.14582008364095...|\n",
      "|               2.0|       0.0|[0.55797813391168...|\n",
      "|               2.0|       1.0|[0.18831619569466...|\n",
      "|               2.0|       1.0|[0.18831619569466...|\n",
      "|               2.0|       0.0|[0.43069829677286...|\n",
      "|               2.0|       0.0|[0.45246219437773...|\n",
      "|               2.0|       0.0|[0.58390168766243...|\n",
      "|               2.0|       2.0|[0.40356339618740...|\n",
      "|               2.0|       0.0|[0.39013427781715...|\n",
      "|               2.0|       0.0|[0.39013427781715...|\n",
      "|               2.0|       0.0|[0.45717267697501...|\n",
      "|               2.0|       2.0|[0.14361356851939...|\n",
      "|               2.0|       2.0|[0.17171138834223...|\n",
      "|               2.0|       0.0|[0.41776517712931...|\n",
      "|               2.0|       0.0|[0.45708157584401...|\n",
      "|               2.0|       0.0|[0.45708157584401...|\n",
      "|               2.0|       0.0|[0.45708157584401...|\n",
      "|               2.0|       0.0|[0.45708157584401...|\n",
      "+------------------+----------+--------------------+\n",
      "only showing top 20 rows\n",
      "\n",
      "----------------------------------------\n",
      "RFC\n",
      "0.8473394465877202\n"
     ]
    }
   ],
   "source": [
    "from pyspark.ml import Pipeline\n",
    "#Validation\n",
    "from pyspark.ml.evaluation import MulticlassClassificationEvaluator\n",
    "acc_evaluator = MulticlassClassificationEvaluator(labelCol=\"crashSeverityIndex\", predictionCol=\"prediction\", metricName=\"accuracy\")\n",
    "from pyspark.ml.evaluation import BinaryClassificationEvaluator\n",
    "my_binary_eval = BinaryClassificationEvaluator(labelCol = 'crashSeverityIndex')\n",
    "\n",
    "\n",
    "#ANN\n",
    "from pyspark.ml.classification import MultilayerPerceptronClassifier\n",
    "layers = [14, 14, 14, 3]\n",
    "ann = MultilayerPerceptronClassifier(labelCol=\"crashSeverityIndex\",maxIter=100, layers=layers, blockSize=32, seed=123)\n",
    "ann_model = ann.fit(train_data)\n",
    "ann_predictions = ann_model.transform(test_data)\n",
    "\n",
    "ann_acc = acc_evaluator.evaluate(ann_predictions)\n",
    "\n",
    "#ann_predictions.select(['crashSeverityIndex','prediction', 'probability']).show()\n",
    "print('An Artificial Neural Network has an accuracy of: {0:2.2f}%'.format(ann_acc*100))\n",
    "\n",
    "\n",
    "#print(\"ANN\")\n",
    "#evaluator = BinaryClassificationEvaluator(labelCol='crashSeverityIndex', metricName='areaUnderROC')\n",
    "#print(evaluator.evaluate(ann_predictions))\n",
    "from sklearn.metrics import classification_report, confusion_matrix\n",
    "y_true = ann_predictions.select('crashSeverityIndex').collect()\n",
    "y_pred = ann_predictions.select('prediction').collect()\n",
    "\n",
    "#print(classification_report(y_true, y_pred))\n",
    "print(confusion_matrix(y_true, y_pred))\n",
    "print('-'*40)\n",
    "#DTC\n",
    "from pyspark.ml.classification import (DecisionTreeClassifier)\n",
    "dtc = DecisionTreeClassifier(labelCol='crashSeverityIndex',featuresCol='features')\n",
    "dtc_model = dtc.fit(train_data)\n",
    "dtc_predictions = dtc_model.transform(test_data)\n",
    "\n",
    "dtc_acc = acc_evaluator.evaluate(dtc_predictions)\n",
    "print('A single decision tree has an accuracy of: {0:2.2f}%'.format(dtc_acc*100))\n",
    "print('-'*40)\n",
    "dtc_predictions.select(['crashSeverityIndex','prediction', 'probability']).show()\n",
    "print('-'*40)\n",
    "\n",
    "print(\"DTC Binary Evaluate:\")\n",
    "print(my_binary_eval.evaluate(dtc_predictions))\n",
    "print('-'*40)\n",
    "#RFC\n",
    "from pyspark.ml.classification import RandomForestClassifier\n",
    "rfc = RandomForestClassifier(labelCol='crashSeverityIndex',featuresCol='features')\n",
    "rfc_model = rfc.fit(train_data)\n",
    "rfc_predictions = rfc_model.transform(test_data)\n",
    "\n",
    "rfc_acc = acc_evaluator.evaluate(rfc_predictions)\n",
    "\n",
    "print('A random forest ensemble has an accuracy of: {0:2.2f}%'.format(rfc_acc*100))\n",
    "print('-'*40)\n",
    "rfc_predictions.select(['crashSeverityIndex','prediction', 'probability']).show()\n",
    "print('-'*40)\n",
    "\n",
    "print(\"RFC\")\n",
    "print(my_binary_eval.evaluate(rfc_predictions))"
   ]
  },
  {
   "cell_type": "code",
   "execution_count": 20,
   "metadata": {},
   "outputs": [
    {
     "name": "stdout",
     "output_type": "stream",
     "text": [
      "DecisionTreeClassificationModel (uid=DecisionTreeClassifier_4f6aaa6b0f55a8a29d7b) of depth 5 with 53 nodes\n",
      "  If (feature 0 <= 80.0)\n",
      "   If (feature 0 <= 60.0)\n",
      "    If (feature 9 <= 0.0)\n",
      "     If (feature 7 <= 0.0)\n",
      "      If (feature 4 <= 0.0)\n",
      "       Predict: 2.0\n",
      "      Else (feature 4 > 0.0)\n",
      "       Predict: 0.0\n",
      "     Else (feature 7 > 0.0)\n",
      "      If (feature 2 <= 1.0)\n",
      "       Predict: 1.0\n",
      "      Else (feature 2 > 1.0)\n",
      "       Predict: 0.0\n",
      "    Else (feature 9 > 0.0)\n",
      "     If (feature 1 <= 0.0)\n",
      "      If (feature 13 <= 0.0)\n",
      "       Predict: 1.0\n",
      "      Else (feature 13 > 0.0)\n",
      "       Predict: 0.0\n",
      "     Else (feature 1 > 0.0)\n",
      "      If (feature 5 <= 0.0)\n",
      "       Predict: 1.0\n",
      "      Else (feature 5 > 0.0)\n",
      "       Predict: 0.0\n",
      "   Else (feature 0 > 60.0)\n",
      "    If (feature 10 <= 0.0)\n",
      "     If (feature 2 <= 0.0)\n",
      "      Predict: 2.0\n",
      "     Else (feature 2 > 0.0)\n",
      "      If (feature 8 <= 0.0)\n",
      "       Predict: 1.0\n",
      "      Else (feature 8 > 0.0)\n",
      "       Predict: 1.0\n",
      "    Else (feature 10 > 0.0)\n",
      "     If (feature 4 <= 0.0)\n",
      "      If (feature 2 <= 1.0)\n",
      "       Predict: 0.0\n",
      "      Else (feature 2 > 1.0)\n",
      "       Predict: 1.0\n",
      "     Else (feature 4 > 0.0)\n",
      "      Predict: 1.0\n",
      "  Else (feature 0 > 80.0)\n",
      "   If (feature 1 <= 0.0)\n",
      "    If (feature 7 <= 0.0)\n",
      "     If (feature 2 <= 0.0)\n",
      "      If (feature 5 <= 0.0)\n",
      "       Predict: 1.0\n",
      "      Else (feature 5 > 0.0)\n",
      "       Predict: 1.0\n",
      "     Else (feature 2 > 0.0)\n",
      "      If (feature 13 <= 0.0)\n",
      "       Predict: 1.0\n",
      "      Else (feature 13 > 0.0)\n",
      "       Predict: 1.0\n",
      "    Else (feature 7 > 0.0)\n",
      "     If (feature 8 <= 0.0)\n",
      "      If (feature 5 <= 0.0)\n",
      "       Predict: 0.0\n",
      "      Else (feature 5 > 0.0)\n",
      "       Predict: 1.0\n",
      "     Else (feature 8 > 0.0)\n",
      "      Predict: 0.0\n",
      "   Else (feature 1 > 0.0)\n",
      "    If (feature 2 <= 2.0)\n",
      "     If (feature 2 <= 1.0)\n",
      "      If (feature 4 <= 0.0)\n",
      "       Predict: 0.0\n",
      "      Else (feature 4 > 0.0)\n",
      "       Predict: 0.0\n",
      "     Else (feature 2 > 1.0)\n",
      "      If (feature 11 <= 0.0)\n",
      "       Predict: 0.0\n",
      "      Else (feature 11 > 0.0)\n",
      "       Predict: 1.0\n",
      "    Else (feature 2 > 2.0)\n",
      "     If (feature 9 <= 0.0)\n",
      "      Predict: 2.0\n",
      "     Else (feature 9 > 0.0)\n",
      "      Predict: 1.0\n",
      "\n"
     ]
    }
   ],
   "source": [
    "print(dtc_model.toDebugString)"
   ]
  },
  {
   "cell_type": "code",
   "execution_count": 21,
   "metadata": {},
   "outputs": [],
   "source": [
    "def csv_download_link(df, csv_file_name, delete_prompt=True):\n",
    "    \"\"\"Display a download link to load a data frame as csv from within a Jupyter notebook\"\"\"\n",
    "    df.toPandas().to_csv(csv_file_name, index=False)\n",
    "    from IPython.display import FileLink\n",
    "    display(FileLink(csv_file_name))\n",
    "    if delete_prompt:\n",
    "        a = input('Press enter to delete the file after you have downloaded it.')\n",
    "        import os\n",
    "        os.remove(csv_file_name)\n",
    "        \n",
    "df_origin = df1.union(df2)\n",
    "#csv_download_link(df_origin, 'df_o.csv')"
   ]
  },
  {
   "cell_type": "code",
   "execution_count": 22,
   "metadata": {},
   "outputs": [
    {
     "data": {
      "image/png": "[encoded data removed]",
      "text/plain": [
       "<Figure size 288x288 with 2 Axes>"
      ]
     },
     "metadata": {},
     "output_type": "display_data"
    },
    {
     "data": {
      "image/png": "[encoded data removed]",
      "text/plain": [
       "<Figure size 288x288 with 2 Axes>"
      ]
     },
     "metadata": {},
     "output_type": "display_data"
    }
   ],
   "source": [
    "plt.matshow(df_origin.toPandas().corr())\n",
    "plt.title('Correlation Matrix Before', fontsize=10);\n",
    "cb = plt.colorbar()\n",
    "cb.ax.tick_params(labelsize=7)\n",
    "plt.show()\n",
    "\n",
    "plt.matshow(df.toPandas().corr())\n",
    "plt.title('Correlation Matrix After', fontsize=13);\n",
    "cb = plt.colorbar()\n",
    "cb.ax.tick_params(labelsize=7)\n",
    "plt.show()"
   ]
  },
  {
   "cell_type": "code",
   "execution_count": 23,
   "metadata": {},
   "outputs": [
    {
     "data": {
      "image/png": "[encoded data removed]",
      "text/plain": [
       "<Figure size 432x288 with 1 Axes>"
      ]
     },
     "metadata": {},
     "output_type": "display_data"
    }
   ],
   "source": [
    "predictionArray = np.array(ann_predictions.select('prediction').collect())\n",
    "actualArray = np.array(ann_predictions.select('crashSeverityIndex').collect())\n",
    "plt.hist(actualArray, label=\"actual value\")\n",
    "plt.hist(predictionArray, label=\"predicted value\")\n",
    "\n",
    "plt.title(\"Artificial Neural Network\")\n",
    "plt.legend(loc='upper right')\n",
    "plt.show()"
   ]
  },
  {
   "cell_type": "code",
   "execution_count": 24,
   "metadata": {},
   "outputs": [
    {
     "data": {
      "image/png": "[encoded data removed]",
      "text/plain": [
       "<Figure size 432x288 with 1 Axes>"
      ]
     },
     "metadata": {},
     "output_type": "display_data"
    }
   ],
   "source": [
    "predictionArray = np.array(dtc_predictions.select('prediction').collect())\n",
    "actualArray = np.array(dtc_predictions.select('crashSeverityIndex').collect())\n",
    "plt.hist(actualArray, label=\"actual value\")\n",
    "plt.hist(predictionArray, label=\"predicted value\")\n",
    "\n",
    "plt.title(\"PySpark Decision Tree Classifier\")\n",
    "plt.legend(loc='upper right')\n",
    "plt.show()"
   ]
  },
  {
   "cell_type": "code",
   "execution_count": 25,
   "metadata": {},
   "outputs": [
    {
     "data": {
      "image/png": "[encoded data removed]",
      "text/plain": [
       "<Figure size 432x288 with 1 Axes>"
      ]
     },
     "metadata": {},
     "output_type": "display_data"
    },
    {
     "data": {
      "image/png": "[encoded data removed]",
      "text/plain": [
       "<Figure size 432x288 with 1 Axes>"
      ]
     },
     "metadata": {},
     "output_type": "display_data"
    }
   ],
   "source": [
    "Arr = np.array(df.select('crashSeverity').collect())\n",
    "fig, ax = plt.subplots()\n",
    "ax.set_xlabel('crashSeverity')\n",
    "ax.set_ylabel('Count')\n",
    "plt.hist(Arr)\n",
    "plt.show()\n",
    "\n",
    "Arr = np.array(df_c.select('crashSeverity').collect())\n",
    "fig, ax = plt.subplots()\n",
    "ax.set_xlabel('crashSeverity')\n",
    "ax.set_ylabel('Count')\n",
    "plt.hist(Arr)\n",
    "plt.show()"
   ]
  },
  {
   "cell_type": "code",
   "execution_count": null,
   "metadata": {},
   "outputs": [],
   "source": []
  }
 ],
 "metadata": {
  "celltoolbar": "Raw Cell Format",
  "kernelspec": {
   "display_name": "Python 3",
   "language": "python",
   "name": "python3"
  },
  "language_info": {
   "codemirror_mode": {
    "name": "ipython",
    "version": 3
   },
   "file_extension": ".py",
   "mimetype": "text/x-python",
   "name": "python",
   "nbconvert_exporter": "python",
   "pygments_lexer": "ipython3",
   "version": "3.5.2"
  }
 },
 "nbformat": 4,
 "nbformat_minor": 2
}
